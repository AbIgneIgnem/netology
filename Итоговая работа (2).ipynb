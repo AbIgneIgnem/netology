{
 "cells": [
  {
   "cell_type": "code",
   "execution_count": 1,
   "id": "1a8ec876-eee4-473c-9b67-5547ec07b74c",
   "metadata": {},
   "outputs": [],
   "source": [
    "import pandas as pd\n",
    "import seaborn as sns\n",
    "import matplotlib.pyplot as plt\n",
    "from scipy.stats import shapiro\n",
    "from scipy import stats\n",
    "from sklearn.model_selection import train_test_split\n",
    "from sklearn.discriminant_analysis import LinearDiscriminantAnalysis\n",
    "from sklearn.metrics import classification_report, accuracy_score\n",
    "from sklearn.preprocessing import StandardScaler"
   ]
  },
  {
   "cell_type": "code",
   "execution_count": 3,
   "id": "9147c803-10fe-498c-9e17-81558b46a5b9",
   "metadata": {},
   "outputs": [],
   "source": [
    "#Задание 1"
   ]
  },
  {
   "cell_type": "code",
   "execution_count": 4,
   "id": "5369a235-a961-4973-8614-191b8c2e7ac7",
   "metadata": {},
   "outputs": [
    {
     "data": {
      "text/html": [
       "<div>\n",
       "<style scoped>\n",
       "    .dataframe tbody tr th:only-of-type {\n",
       "        vertical-align: middle;\n",
       "    }\n",
       "\n",
       "    .dataframe tbody tr th {\n",
       "        vertical-align: top;\n",
       "    }\n",
       "\n",
       "    .dataframe thead th {\n",
       "        text-align: right;\n",
       "    }\n",
       "</style>\n",
       "<table border=\"1\" class=\"dataframe\">\n",
       "  <thead>\n",
       "    <tr style=\"text-align: right;\">\n",
       "      <th></th>\n",
       "      <th>satisfaction_level</th>\n",
       "      <th>last_evaluation</th>\n",
       "      <th>number_project</th>\n",
       "      <th>average_montly_hours</th>\n",
       "      <th>time_spend_company</th>\n",
       "      <th>Work_accident</th>\n",
       "      <th>left</th>\n",
       "      <th>promotion_last_5years</th>\n",
       "      <th>department</th>\n",
       "      <th>salary</th>\n",
       "    </tr>\n",
       "  </thead>\n",
       "  <tbody>\n",
       "    <tr>\n",
       "      <th>0</th>\n",
       "      <td>0.38</td>\n",
       "      <td>0.53</td>\n",
       "      <td>2</td>\n",
       "      <td>157</td>\n",
       "      <td>3</td>\n",
       "      <td>0</td>\n",
       "      <td>1</td>\n",
       "      <td>0</td>\n",
       "      <td>sales</td>\n",
       "      <td>low</td>\n",
       "    </tr>\n",
       "    <tr>\n",
       "      <th>1</th>\n",
       "      <td>0.80</td>\n",
       "      <td>0.86</td>\n",
       "      <td>5</td>\n",
       "      <td>262</td>\n",
       "      <td>6</td>\n",
       "      <td>0</td>\n",
       "      <td>1</td>\n",
       "      <td>0</td>\n",
       "      <td>sales</td>\n",
       "      <td>medium</td>\n",
       "    </tr>\n",
       "    <tr>\n",
       "      <th>2</th>\n",
       "      <td>0.11</td>\n",
       "      <td>0.88</td>\n",
       "      <td>7</td>\n",
       "      <td>272</td>\n",
       "      <td>4</td>\n",
       "      <td>0</td>\n",
       "      <td>1</td>\n",
       "      <td>0</td>\n",
       "      <td>sales</td>\n",
       "      <td>medium</td>\n",
       "    </tr>\n",
       "    <tr>\n",
       "      <th>3</th>\n",
       "      <td>0.72</td>\n",
       "      <td>0.87</td>\n",
       "      <td>5</td>\n",
       "      <td>223</td>\n",
       "      <td>5</td>\n",
       "      <td>0</td>\n",
       "      <td>1</td>\n",
       "      <td>0</td>\n",
       "      <td>sales</td>\n",
       "      <td>low</td>\n",
       "    </tr>\n",
       "    <tr>\n",
       "      <th>4</th>\n",
       "      <td>0.37</td>\n",
       "      <td>0.52</td>\n",
       "      <td>2</td>\n",
       "      <td>159</td>\n",
       "      <td>3</td>\n",
       "      <td>0</td>\n",
       "      <td>1</td>\n",
       "      <td>0</td>\n",
       "      <td>sales</td>\n",
       "      <td>low</td>\n",
       "    </tr>\n",
       "  </tbody>\n",
       "</table>\n",
       "</div>"
      ],
      "text/plain": [
       "   satisfaction_level  last_evaluation  number_project  average_montly_hours  \\\n",
       "0                0.38             0.53               2                   157   \n",
       "1                0.80             0.86               5                   262   \n",
       "2                0.11             0.88               7                   272   \n",
       "3                0.72             0.87               5                   223   \n",
       "4                0.37             0.52               2                   159   \n",
       "\n",
       "   time_spend_company  Work_accident  left  promotion_last_5years department  \\\n",
       "0                   3              0     1                      0      sales   \n",
       "1                   6              0     1                      0      sales   \n",
       "2                   4              0     1                      0      sales   \n",
       "3                   5              0     1                      0      sales   \n",
       "4                   3              0     1                      0      sales   \n",
       "\n",
       "   salary  \n",
       "0     low  \n",
       "1  medium  \n",
       "2  medium  \n",
       "3     low  \n",
       "4     low  "
      ]
     },
     "execution_count": 4,
     "metadata": {},
     "output_type": "execute_result"
    }
   ],
   "source": [
    "hr = pd.read_csv('HR.csv')\n",
    "hr.head()"
   ]
  },
  {
   "cell_type": "code",
   "execution_count": 5,
   "id": "a4454199-98bf-4161-9985-c80bbc287aee",
   "metadata": {},
   "outputs": [],
   "source": [
    "#Задание 2"
   ]
  },
  {
   "cell_type": "code",
   "execution_count": 6,
   "id": "6bd4ac5f-3cc7-468a-b383-fc6b7b4bbd6a",
   "metadata": {},
   "outputs": [
    {
     "name": "stdout",
     "output_type": "stream",
     "text": [
      "0.6128335222348156\n",
      "0.64\n",
      "0.1\n",
      "0.09\n",
      "1.0\n",
      "0.2486306510611418\n"
     ]
    }
   ],
   "source": [
    "mean_sl = hr['satisfaction_level'].mean()\n",
    "median_sl = hr['satisfaction_level'].median()\n",
    "mode_sl = hr['satisfaction_level'].mode()[0]\n",
    "min_sl = hr['satisfaction_level'].min()\n",
    "max_sl = hr['satisfaction_level'].max()\n",
    "std_sl = hr['satisfaction_level'].std()\n",
    "print(mean_sl, median_sl, mode_sl, min_sl, max_sl, std_sl, sep='\\n')"
   ]
  },
  {
   "cell_type": "code",
   "execution_count": 7,
   "id": "098e8050-2ce1-4aa4-b8b2-1ce5685aaab3",
   "metadata": {},
   "outputs": [
    {
     "name": "stdout",
     "output_type": "stream",
     "text": [
      "0.7161017401160078\n",
      "0.72\n",
      "0.55\n",
      "0.36\n",
      "1.0\n",
      "0.17116911062327592\n"
     ]
    }
   ],
   "source": [
    "mean_le = hr['last_evaluation'].mean()\n",
    "median_le = hr['last_evaluation'].median()\n",
    "mode_le = hr['last_evaluation'].mode()[0]\n",
    "min_le = hr['last_evaluation'].min()\n",
    "max_le = hr['last_evaluation'].max()\n",
    "std_le = hr['last_evaluation'].std()\n",
    "print(mean_le, median_le, mode_le, min_le, max_le, std_le, sep='\\n')"
   ]
  },
  {
   "cell_type": "code",
   "execution_count": 8,
   "id": "fcca6c38-60f3-4caa-8233-4ee2de1e262a",
   "metadata": {},
   "outputs": [
    {
     "name": "stdout",
     "output_type": "stream",
     "text": [
      "3.80305353690246\n",
      "4.0\n",
      "4\n",
      "2\n",
      "7\n",
      "1.2325923553183857\n"
     ]
    }
   ],
   "source": [
    "mean_np = hr['number_project'].mean()\n",
    "median_np = hr['number_project'].median()\n",
    "mode_np = hr['number_project'].mode()[0]\n",
    "min_np = hr['number_project'].min()\n",
    "max_np = hr['number_project'].max()\n",
    "std_np = hr['number_project'].std()\n",
    "print(mean_np, median_np, mode_np, min_np, max_np, std_np, sep='\\n')"
   ]
  },
  {
   "cell_type": "code",
   "execution_count": 9,
   "id": "e25b971c-3890-4442-89d6-51ce197fb08f",
   "metadata": {},
   "outputs": [
    {
     "name": "stdout",
     "output_type": "stream",
     "text": [
      "201.0503366891126\n",
      "200.0\n",
      "135\n",
      "96\n",
      "310\n",
      "49.943099371284305\n"
     ]
    }
   ],
   "source": [
    "mean_amh = hr['average_montly_hours'].mean()\n",
    "median_amh = hr['average_montly_hours'].median()\n",
    "mode_amh = hr['average_montly_hours'].mode()[0]\n",
    "min_amh = hr['average_montly_hours'].min()\n",
    "max_amh = hr['average_montly_hours'].max()\n",
    "std_amh = hr['average_montly_hours'].std()\n",
    "print(mean_amh, median_amh, mode_amh, min_amh, max_amh, std_amh, sep='\\n')"
   ]
  },
  {
   "cell_type": "code",
   "execution_count": 10,
   "id": "60ff05a7-4ade-41c5-9295-1d80085af452",
   "metadata": {},
   "outputs": [
    {
     "name": "stdout",
     "output_type": "stream",
     "text": [
      "0\n",
      "0\n",
      "0\n",
      "sales\n",
      "low\n"
     ]
    }
   ],
   "source": [
    "mode_wa = hr['Work_accident'].mode()[0]\n",
    "mode_l = hr['left'].mode()[0]\n",
    "mode_ply = hr['promotion_last_5years'].mode()[0]\n",
    "mode_d = hr['department'].mode()[0]\n",
    "mode_s = hr['salary'].mode()[0]\n",
    "print(mode_wa, mode_l, mode_ply, mode_d, mode_s, sep='\\n')"
   ]
  },
  {
   "cell_type": "code",
   "execution_count": 11,
   "id": "a8eeaff5-d733-4094-9b9b-71a360d10518",
   "metadata": {},
   "outputs": [],
   "source": [
    "#Задание 3"
   ]
  },
  {
   "cell_type": "code",
   "execution_count": 12,
   "id": "f5ee2f8b-29f1-468f-9a04-1bb37fe0f4aa",
   "metadata": {},
   "outputs": [
    {
     "name": "stdout",
     "output_type": "stream",
     "text": [
      "                      satisfaction_level  last_evaluation  number_project  \\\n",
      "satisfaction_level              1.000000         0.105021       -0.142970   \n",
      "last_evaluation                 0.105021         1.000000        0.349333   \n",
      "number_project                 -0.142970         0.349333        1.000000   \n",
      "average_montly_hours           -0.020048         0.339742        0.417211   \n",
      "time_spend_company             -0.100866         0.131591        0.196786   \n",
      "\n",
      "                      average_montly_hours  time_spend_company  \n",
      "satisfaction_level               -0.020048           -0.100866  \n",
      "last_evaluation                   0.339742            0.131591  \n",
      "number_project                    0.417211            0.196786  \n",
      "average_montly_hours              1.000000            0.127755  \n",
      "time_spend_company                0.127755            1.000000  \n"
     ]
    }
   ],
   "source": [
    "columns = ['satisfaction_level', 'last_evaluation', 'number_project', 'average_montly_hours', 'time_spend_company']\n",
    "correlation_matrix = hr[columns].corr()\n",
    "print(correlation_matrix)"
   ]
  },
  {
   "cell_type": "code",
   "execution_count": 13,
   "id": "5e1479ff-10ad-483d-a269-65fb6129b221",
   "metadata": {},
   "outputs": [
    {
     "data": {
      "image/png": "[encoded data removed]",
      "text/plain": [
       "<Figure size 640x480 with 2 Axes>"
      ]
     },
     "metadata": {},
     "output_type": "display_data"
    }
   ],
   "source": [
    "sns.heatmap(correlation_matrix, annot=True, cmap='crest')\n",
    "plt.title('Корреляционная матрица')\n",
    "plt.show()"
   ]
  },
  {
   "cell_type": "code",
   "execution_count": 14,
   "id": "4a78bfc9-6adb-4f60-b213-0d6f6937092e",
   "metadata": {},
   "outputs": [],
   "source": [
    "#Задание 4"
   ]
  },
  {
   "cell_type": "code",
   "execution_count": 15,
   "id": "6d70b377-0efa-44c5-a4b4-a773a4bbaa6d",
   "metadata": {},
   "outputs": [
    {
     "name": "stdout",
     "output_type": "stream",
     "text": [
      "department\n",
      "sales          4140\n",
      "technical      2720\n",
      "support        2229\n",
      "IT             1227\n",
      "product_mng     902\n",
      "marketing       858\n",
      "RandD           787\n",
      "accounting      767\n",
      "hr              739\n",
      "management      630\n",
      "Name: count, dtype: int64\n"
     ]
    }
   ],
   "source": [
    "departments_grouped = hr['department'].value_counts()\n",
    "print(departments_grouped)"
   ]
  },
  {
   "cell_type": "code",
   "execution_count": 16,
   "id": "71124669-0899-457d-9ed0-ad83d3429889",
   "metadata": {},
   "outputs": [],
   "source": [
    "#Задание 5"
   ]
  },
  {
   "cell_type": "code",
   "execution_count": 17,
   "id": "d851fb2c-9d3d-4ed2-8510-6573ada02857",
   "metadata": {},
   "outputs": [
    {
     "name": "stdout",
     "output_type": "stream",
     "text": [
      "salary\n",
      "low       7316\n",
      "medium    6446\n",
      "high      1237\n",
      "Name: count, dtype: int64\n"
     ]
    }
   ],
   "source": [
    "salary_distribution = hr['salary'].value_counts()\n",
    "print(salary_distribution)"
   ]
  },
  {
   "cell_type": "code",
   "execution_count": 18,
   "id": "4a791a5e-8ddf-430b-bce5-4d52786fe56a",
   "metadata": {},
   "outputs": [
    {
     "data": {
      "image/png": "[encoded data removed]",
      "text/plain": [
       "<Figure size 800x500 with 1 Axes>"
      ]
     },
     "metadata": {},
     "output_type": "display_data"
    }
   ],
   "source": [
    "plt.figure(figsize=(8, 5))\n",
    "sns.countplot(data=hr, x='salary', hue='salary', order=['low', 'medium', 'high'], palette='crest', legend=False)\n",
    "plt.title('Распределение сотрудников по уровню зарплат', fontsize=14)\n",
    "plt.xlabel('Уровень зарплаты', fontsize=12)\n",
    "plt.ylabel('Количество сотрудников', fontsize=12)\n",
    "plt.show()"
   ]
  },
  {
   "cell_type": "code",
   "execution_count": 19,
   "id": "9888bdc6-22bf-491a-86d5-c20772a83c57",
   "metadata": {},
   "outputs": [],
   "source": [
    "#Задание 6"
   ]
  },
  {
   "cell_type": "code",
   "execution_count": 20,
   "id": "9cf16dbe-ca39-4ca1-8ada-105999407e0d",
   "metadata": {},
   "outputs": [
    {
     "name": "stdout",
     "output_type": "stream",
     "text": [
      "department   salary\n",
      "IT           low        609\n",
      "             medium     535\n",
      "             high        83\n",
      "RandD        medium     372\n",
      "             low        364\n",
      "             high        51\n",
      "accounting   low        358\n",
      "             medium     335\n",
      "             high        74\n",
      "hr           medium     359\n",
      "             low        335\n",
      "             high        45\n",
      "management   high       225\n",
      "             medium     225\n",
      "             low        180\n",
      "marketing    low        402\n",
      "             medium     376\n",
      "             high        80\n",
      "product_mng  low        451\n",
      "             medium     383\n",
      "             high        68\n",
      "sales        low       2099\n",
      "             medium    1772\n",
      "             high       269\n",
      "support      low       1146\n",
      "             medium     942\n",
      "             high       141\n",
      "technical    low       1372\n",
      "             medium    1147\n",
      "             high       201\n",
      "Name: count, dtype: int64\n"
     ]
    }
   ],
   "source": [
    "grouped= hr.groupby('department')['salary'].value_counts()\n",
    "print(grouped)"
   ]
  },
  {
   "cell_type": "code",
   "execution_count": 21,
   "id": "efc7c04c-e9fe-4918-8a34-e5bf4890e16d",
   "metadata": {},
   "outputs": [
    {
     "data": {
      "text/plain": [
       "Text(0.5, 1.02, 'Распределение зарплат по департаментам')"
      ]
     },
     "execution_count": 21,
     "metadata": {},
     "output_type": "execute_result"
    },
    {
     "data": {
      "image/png": "[encoded data removed]",
      "text/plain": [
       "<Figure size 1200x1600 with 10 Axes>"
      ]
     },
     "metadata": {},
     "output_type": "display_data"
    }
   ],
   "source": [
    "department_salary = sns.catplot(\n",
    "    data=hr,\n",
    "    x='salary',\n",
    "    hue='salary',  \n",
    "    col='department',\n",
    "    col_wrap=3,    \n",
    "    kind='count',\n",
    "    palette='crest',\n",
    "    order=['low', 'medium', 'high'],\n",
    "    height=4,\n",
    "    aspect=1,\n",
    "    legend=False\n",
    ")\n",
    "\n",
    "department_salary.set_titles('Департамент: {col_name}')\n",
    "department_salary.set_axis_labels('Зарплата', 'Количество сотрудников')\n",
    "plt.suptitle('Распределение зарплат по департаментам', y=1.02)"
   ]
  },
  {
   "cell_type": "code",
   "execution_count": 22,
   "id": "8d09317e-c4c1-401a-9b32-a97ab01c6eca",
   "metadata": {},
   "outputs": [],
   "source": [
    "#Задание 7"
   ]
  },
  {
   "cell_type": "code",
   "execution_count": 23,
   "id": "a8b9e88d-ca97-4e5b-9aeb-d04387178fce",
   "metadata": {},
   "outputs": [],
   "source": [
    "high_salary = hr[hr['salary'] == 'high']['average_montly_hours']\n",
    "low_salary = hr[hr['salary'] == 'low']['average_montly_hours']"
   ]
  },
  {
   "cell_type": "code",
   "execution_count": 24,
   "id": "b992c451-2f28-4f4e-a9dd-b66155415484",
   "metadata": {},
   "outputs": [],
   "source": [
    "def shapiro_test(data, alpha = 0.05):\n",
    "    stat, p = shapiro(data)\n",
    "    if p > alpha:\n",
    "        print('Распределение похоже на нормальное')\n",
    "    else:\n",
    "        print('Распределение не похоже на нормальное')\n"
   ]
  },
  {
   "cell_type": "code",
   "execution_count": 25,
   "id": "930122ca-d85a-481e-82d7-7bf41b8d13ef",
   "metadata": {},
   "outputs": [
    {
     "name": "stdout",
     "output_type": "stream",
     "text": [
      "Распределение не похоже на нормальное\n"
     ]
    }
   ],
   "source": [
    "shapiro_test (high_salary)"
   ]
  },
  {
   "cell_type": "code",
   "execution_count": 26,
   "id": "a2fd0b66-963d-4051-bb2a-b66fda8445a2",
   "metadata": {},
   "outputs": [
    {
     "name": "stdout",
     "output_type": "stream",
     "text": [
      "Распределение не похоже на нормальное\n"
     ]
    }
   ],
   "source": [
    "shapiro_test (low_salary)"
   ]
  },
  {
   "cell_type": "code",
   "execution_count": 27,
   "id": "ed808244-fc1d-4a6c-9ccb-71e54f37a013",
   "metadata": {},
   "outputs": [
    {
     "name": "stdout",
     "output_type": "stream",
     "text": [
      "U-статистика = 4507096.5, p-value = 0.588\n"
     ]
    }
   ],
   "source": [
    "u_stat, p_mannwhitney = stats.mannwhitneyu(high_salary, low_salary, alternative='greater')\n",
    "print(f\"U-статистика = {u_stat}, p-value = {p_mannwhitney:.3f}\")"
   ]
  },
  {
   "cell_type": "code",
   "execution_count": 28,
   "id": "f68a9793-5d99-440e-9b13-00c2f3d79bb4",
   "metadata": {},
   "outputs": [
    {
     "name": "stdout",
     "output_type": "stream",
     "text": [
      "\n",
      " Не отвергаем H0: Нет доказательств, что cотрудники с высоким окладом работают больше.\n"
     ]
    }
   ],
   "source": [
    "alpha = 0.05\n",
    "if p_mannwhitney < alpha:\n",
    "    print(\"\\n Отвергаем H0: Сотрудники с высоким окладом работают больше.\")\n",
    "else:\n",
    "    print(\"\\n Не отвергаем H0: Нет доказательств, что cотрудники с высоким окладом работают больше.\")"
   ]
  },
  {
   "cell_type": "code",
   "execution_count": 29,
   "id": "75990057-a9db-4dca-ac24-ffcb5be1c78c",
   "metadata": {},
   "outputs": [],
   "source": [
    "#Задание 8"
   ]
  },
  {
   "cell_type": "code",
   "execution_count": 30,
   "id": "b36f61d3-e748-4daf-90cf-e1e5035dd24a",
   "metadata": {},
   "outputs": [],
   "source": [
    "status_grouped = hr.groupby('left')"
   ]
  },
  {
   "cell_type": "code",
   "execution_count": 31,
   "id": "17a9875d-9239-4386-95eb-a30631e22c8c",
   "metadata": {},
   "outputs": [],
   "source": [
    "results = status_grouped.agg({\n",
    "    'promotion_last_5years': lambda x: x.mean(), \n",
    "    'satisfaction_level': 'mean',                \n",
    "    'number_project': 'mean'\n",
    "})"
   ]
  },
  {
   "cell_type": "code",
   "execution_count": 32,
   "id": "ee073c6e-44db-4aba-a616-6624171f422c",
   "metadata": {},
   "outputs": [
    {
     "name": "stdout",
     "output_type": "stream",
     "text": [
      "      promotion_last_5years  satisfaction_level  number_project\n",
      "left                                                           \n",
      "0                  0.026251            0.666810        3.786664\n",
      "1                  0.005321            0.440098        3.855503\n"
     ]
    }
   ],
   "source": [
    "print(results)"
   ]
  },
  {
   "cell_type": "code",
   "execution_count": 33,
   "id": "88b47751-0274-483f-b22d-a7a12624ec1a",
   "metadata": {},
   "outputs": [],
   "source": [
    "#Задание 8"
   ]
  },
  {
   "cell_type": "code",
   "execution_count": 34,
   "id": "40d07e20-6090-4e5d-91be-5b1e2ec2fd77",
   "metadata": {},
   "outputs": [],
   "source": [
    "x = hr.drop(['left', 'department', 'salary'], axis=1)\n",
    "y = hr['left']"
   ]
  },
  {
   "cell_type": "code",
   "execution_count": 35,
   "id": "adbf447f-0c64-42ef-8862-ad75ac088ded",
   "metadata": {},
   "outputs": [],
   "source": [
    "x_train, x_test, y_train, y_test = train_test_split(x, y, test_size=0.3, random_state=42)"
   ]
  },
  {
   "cell_type": "code",
   "execution_count": 37,
   "id": "1d9e2f07-1df1-460c-a8db-c274c89c92f1",
   "metadata": {},
   "outputs": [],
   "source": [
    "scaler = StandardScaler()\n",
    "x_train_scaled = scaler.fit_transform(x_train)\n",
    "x_test_scaled = scaler.transform(x_test)"
   ]
  },
  {
   "cell_type": "code",
   "execution_count": 38,
   "id": "d7547804-87c9-43d1-aa30-029a4b47d35e",
   "metadata": {},
   "outputs": [
    {
     "data": {
      "text/html": [
       "<style>#sk-container-id-1 {\n",
       "  /* Definition of color scheme common for light and dark mode */\n",
       "  --sklearn-color-text: black;\n",
       "  --sklearn-color-line: gray;\n",
       "  /* Definition of color scheme for unfitted estimators */\n",
       "  --sklearn-color-unfitted-level-0: #fff5e6;\n",
       "  --sklearn-color-unfitted-level-1: #f6e4d2;\n",
       "  --sklearn-color-unfitted-level-2: #ffe0b3;\n",
       "  --sklearn-color-unfitted-level-3: chocolate;\n",
       "  /* Definition of color scheme for fitted estimators */\n",
       "  --sklearn-color-fitted-level-0: #f0f8ff;\n",
       "  --sklearn-color-fitted-level-1: #d4ebff;\n",
       "  --sklearn-color-fitted-level-2: #b3dbfd;\n",
       "  --sklearn-color-fitted-level-3: cornflowerblue;\n",
       "\n",
       "  /* Specific color for light theme */\n",
       "  --sklearn-color-text-on-default-background: var(--sg-text-color, var(--theme-code-foreground, var(--jp-content-font-color1, black)));\n",
       "  --sklearn-color-background: var(--sg-background-color, var(--theme-background, var(--jp-layout-color0, white)));\n",
       "  --sklearn-color-border-box: var(--sg-text-color, var(--theme-code-foreground, var(--jp-content-font-color1, black)));\n",
       "  --sklearn-color-icon: #696969;\n",
       "\n",
       "  @media (prefers-color-scheme: dark) {\n",
       "    /* Redefinition of color scheme for dark theme */\n",
       "    --sklearn-color-text-on-default-background: var(--sg-text-color, var(--theme-code-foreground, var(--jp-content-font-color1, white)));\n",
       "    --sklearn-color-background: var(--sg-background-color, var(--theme-background, var(--jp-layout-color0, #111)));\n",
       "    --sklearn-color-border-box: var(--sg-text-color, var(--theme-code-foreground, var(--jp-content-font-color1, white)));\n",
       "    --sklearn-color-icon: #878787;\n",
       "  }\n",
       "}\n",
       "\n",
       "#sk-container-id-1 {\n",
       "  color: var(--sklearn-color-text);\n",
       "}\n",
       "\n",
       "#sk-container-id-1 pre {\n",
       "  padding: 0;\n",
       "}\n",
       "\n",
       "#sk-container-id-1 input.sk-hidden--visually {\n",
       "  border: 0;\n",
       "  clip: rect(1px 1px 1px 1px);\n",
       "  clip: rect(1px, 1px, 1px, 1px);\n",
       "  height: 1px;\n",
       "  margin: -1px;\n",
       "  overflow: hidden;\n",
       "  padding: 0;\n",
       "  position: absolute;\n",
       "  width: 1px;\n",
       "}\n",
       "\n",
       "#sk-container-id-1 div.sk-dashed-wrapped {\n",
       "  border: 1px dashed var(--sklearn-color-line);\n",
       "  margin: 0 0.4em 0.5em 0.4em;\n",
       "  box-sizing: border-box;\n",
       "  padding-bottom: 0.4em;\n",
       "  background-color: var(--sklearn-color-background);\n",
       "}\n",
       "\n",
       "#sk-container-id-1 div.sk-container {\n",
       "  /* jupyter's `normalize.less` sets `[hidden] { display: none; }`\n",
       "     but bootstrap.min.css set `[hidden] { display: none !important; }`\n",
       "     so we also need the `!important` here to be able to override the\n",
       "     default hidden behavior on the sphinx rendered scikit-learn.org.\n",
       "     See: https://github.com/scikit-learn/scikit-learn/issues/21755 */\n",
       "  display: inline-block !important;\n",
       "  position: relative;\n",
       "}\n",
       "\n",
       "#sk-container-id-1 div.sk-text-repr-fallback {\n",
       "  display: none;\n",
       "}\n",
       "\n",
       "div.sk-parallel-item,\n",
       "div.sk-serial,\n",
       "div.sk-item {\n",
       "  /* draw centered vertical line to link estimators */\n",
       "  background-image: linear-gradient(var(--sklearn-color-text-on-default-background), var(--sklearn-color-text-on-default-background));\n",
       "  background-size: 2px 100%;\n",
       "  background-repeat: no-repeat;\n",
       "  background-position: center center;\n",
       "}\n",
       "\n",
       "/* Parallel-specific style estimator block */\n",
       "\n",
       "#sk-container-id-1 div.sk-parallel-item::after {\n",
       "  content: \"\";\n",
       "  width: 100%;\n",
       "  border-bottom: 2px solid var(--sklearn-color-text-on-default-background);\n",
       "  flex-grow: 1;\n",
       "}\n",
       "\n",
       "#sk-container-id-1 div.sk-parallel {\n",
       "  display: flex;\n",
       "  align-items: stretch;\n",
       "  justify-content: center;\n",
       "  background-color: var(--sklearn-color-background);\n",
       "  position: relative;\n",
       "}\n",
       "\n",
       "#sk-container-id-1 div.sk-parallel-item {\n",
       "  display: flex;\n",
       "  flex-direction: column;\n",
       "}\n",
       "\n",
       "#sk-container-id-1 div.sk-parallel-item:first-child::after {\n",
       "  align-self: flex-end;\n",
       "  width: 50%;\n",
       "}\n",
       "\n",
       "#sk-container-id-1 div.sk-parallel-item:last-child::after {\n",
       "  align-self: flex-start;\n",
       "  width: 50%;\n",
       "}\n",
       "\n",
       "#sk-container-id-1 div.sk-parallel-item:only-child::after {\n",
       "  width: 0;\n",
       "}\n",
       "\n",
       "/* Serial-specific style estimator block */\n",
       "\n",
       "#sk-container-id-1 div.sk-serial {\n",
       "  display: flex;\n",
       "  flex-direction: column;\n",
       "  align-items: center;\n",
       "  background-color: var(--sklearn-color-background);\n",
       "  padding-right: 1em;\n",
       "  padding-left: 1em;\n",
       "}\n",
       "\n",
       "\n",
       "/* Toggleable style: style used for estimator/Pipeline/ColumnTransformer box that is\n",
       "clickable and can be expanded/collapsed.\n",
       "- Pipeline and ColumnTransformer use this feature and define the default style\n",
       "- Estimators will overwrite some part of the style using the `sk-estimator` class\n",
       "*/\n",
       "\n",
       "/* Pipeline and ColumnTransformer style (default) */\n",
       "\n",
       "#sk-container-id-1 div.sk-toggleable {\n",
       "  /* Default theme specific background. It is overwritten whether we have a\n",
       "  specific estimator or a Pipeline/ColumnTransformer */\n",
       "  background-color: var(--sklearn-color-background);\n",
       "}\n",
       "\n",
       "/* Toggleable label */\n",
       "#sk-container-id-1 label.sk-toggleable__label {\n",
       "  cursor: pointer;\n",
       "  display: block;\n",
       "  width: 100%;\n",
       "  margin-bottom: 0;\n",
       "  padding: 0.5em;\n",
       "  box-sizing: border-box;\n",
       "  text-align: center;\n",
       "}\n",
       "\n",
       "#sk-container-id-1 label.sk-toggleable__label-arrow:before {\n",
       "  /* Arrow on the left of the label */\n",
       "  content: \"▸\";\n",
       "  float: left;\n",
       "  margin-right: 0.25em;\n",
       "  color: var(--sklearn-color-icon);\n",
       "}\n",
       "\n",
       "#sk-container-id-1 label.sk-toggleable__label-arrow:hover:before {\n",
       "  color: var(--sklearn-color-text);\n",
       "}\n",
       "\n",
       "/* Toggleable content - dropdown */\n",
       "\n",
       "#sk-container-id-1 div.sk-toggleable__content {\n",
       "  max-height: 0;\n",
       "  max-width: 0;\n",
       "  overflow: hidden;\n",
       "  text-align: left;\n",
       "  /* unfitted */\n",
       "  background-color: var(--sklearn-color-unfitted-level-0);\n",
       "}\n",
       "\n",
       "#sk-container-id-1 div.sk-toggleable__content.fitted {\n",
       "  /* fitted */\n",
       "  background-color: var(--sklearn-color-fitted-level-0);\n",
       "}\n",
       "\n",
       "#sk-container-id-1 div.sk-toggleable__content pre {\n",
       "  margin: 0.2em;\n",
       "  border-radius: 0.25em;\n",
       "  color: var(--sklearn-color-text);\n",
       "  /* unfitted */\n",
       "  background-color: var(--sklearn-color-unfitted-level-0);\n",
       "}\n",
       "\n",
       "#sk-container-id-1 div.sk-toggleable__content.fitted pre {\n",
       "  /* unfitted */\n",
       "  background-color: var(--sklearn-color-fitted-level-0);\n",
       "}\n",
       "\n",
       "#sk-container-id-1 input.sk-toggleable__control:checked~div.sk-toggleable__content {\n",
       "  /* Expand drop-down */\n",
       "  max-height: 200px;\n",
       "  max-width: 100%;\n",
       "  overflow: auto;\n",
       "}\n",
       "\n",
       "#sk-container-id-1 input.sk-toggleable__control:checked~label.sk-toggleable__label-arrow:before {\n",
       "  content: \"▾\";\n",
       "}\n",
       "\n",
       "/* Pipeline/ColumnTransformer-specific style */\n",
       "\n",
       "#sk-container-id-1 div.sk-label input.sk-toggleable__control:checked~label.sk-toggleable__label {\n",
       "  color: var(--sklearn-color-text);\n",
       "  background-color: var(--sklearn-color-unfitted-level-2);\n",
       "}\n",
       "\n",
       "#sk-container-id-1 div.sk-label.fitted input.sk-toggleable__control:checked~label.sk-toggleable__label {\n",
       "  background-color: var(--sklearn-color-fitted-level-2);\n",
       "}\n",
       "\n",
       "/* Estimator-specific style */\n",
       "\n",
       "/* Colorize estimator box */\n",
       "#sk-container-id-1 div.sk-estimator input.sk-toggleable__control:checked~label.sk-toggleable__label {\n",
       "  /* unfitted */\n",
       "  background-color: var(--sklearn-color-unfitted-level-2);\n",
       "}\n",
       "\n",
       "#sk-container-id-1 div.sk-estimator.fitted input.sk-toggleable__control:checked~label.sk-toggleable__label {\n",
       "  /* fitted */\n",
       "  background-color: var(--sklearn-color-fitted-level-2);\n",
       "}\n",
       "\n",
       "#sk-container-id-1 div.sk-label label.sk-toggleable__label,\n",
       "#sk-container-id-1 div.sk-label label {\n",
       "  /* The background is the default theme color */\n",
       "  color: var(--sklearn-color-text-on-default-background);\n",
       "}\n",
       "\n",
       "/* On hover, darken the color of the background */\n",
       "#sk-container-id-1 div.sk-label:hover label.sk-toggleable__label {\n",
       "  color: var(--sklearn-color-text);\n",
       "  background-color: var(--sklearn-color-unfitted-level-2);\n",
       "}\n",
       "\n",
       "/* Label box, darken color on hover, fitted */\n",
       "#sk-container-id-1 div.sk-label.fitted:hover label.sk-toggleable__label.fitted {\n",
       "  color: var(--sklearn-color-text);\n",
       "  background-color: var(--sklearn-color-fitted-level-2);\n",
       "}\n",
       "\n",
       "/* Estimator label */\n",
       "\n",
       "#sk-container-id-1 div.sk-label label {\n",
       "  font-family: monospace;\n",
       "  font-weight: bold;\n",
       "  display: inline-block;\n",
       "  line-height: 1.2em;\n",
       "}\n",
       "\n",
       "#sk-container-id-1 div.sk-label-container {\n",
       "  text-align: center;\n",
       "}\n",
       "\n",
       "/* Estimator-specific */\n",
       "#sk-container-id-1 div.sk-estimator {\n",
       "  font-family: monospace;\n",
       "  border: 1px dotted var(--sklearn-color-border-box);\n",
       "  border-radius: 0.25em;\n",
       "  box-sizing: border-box;\n",
       "  margin-bottom: 0.5em;\n",
       "  /* unfitted */\n",
       "  background-color: var(--sklearn-color-unfitted-level-0);\n",
       "}\n",
       "\n",
       "#sk-container-id-1 div.sk-estimator.fitted {\n",
       "  /* fitted */\n",
       "  background-color: var(--sklearn-color-fitted-level-0);\n",
       "}\n",
       "\n",
       "/* on hover */\n",
       "#sk-container-id-1 div.sk-estimator:hover {\n",
       "  /* unfitted */\n",
       "  background-color: var(--sklearn-color-unfitted-level-2);\n",
       "}\n",
       "\n",
       "#sk-container-id-1 div.sk-estimator.fitted:hover {\n",
       "  /* fitted */\n",
       "  background-color: var(--sklearn-color-fitted-level-2);\n",
       "}\n",
       "\n",
       "/* Specification for estimator info (e.g. \"i\" and \"?\") */\n",
       "\n",
       "/* Common style for \"i\" and \"?\" */\n",
       "\n",
       ".sk-estimator-doc-link,\n",
       "a:link.sk-estimator-doc-link,\n",
       "a:visited.sk-estimator-doc-link {\n",
       "  float: right;\n",
       "  font-size: smaller;\n",
       "  line-height: 1em;\n",
       "  font-family: monospace;\n",
       "  background-color: var(--sklearn-color-background);\n",
       "  border-radius: 1em;\n",
       "  height: 1em;\n",
       "  width: 1em;\n",
       "  text-decoration: none !important;\n",
       "  margin-left: 1ex;\n",
       "  /* unfitted */\n",
       "  border: var(--sklearn-color-unfitted-level-1) 1pt solid;\n",
       "  color: var(--sklearn-color-unfitted-level-1);\n",
       "}\n",
       "\n",
       ".sk-estimator-doc-link.fitted,\n",
       "a:link.sk-estimator-doc-link.fitted,\n",
       "a:visited.sk-estimator-doc-link.fitted {\n",
       "  /* fitted */\n",
       "  border: var(--sklearn-color-fitted-level-1) 1pt solid;\n",
       "  color: var(--sklearn-color-fitted-level-1);\n",
       "}\n",
       "\n",
       "/* On hover */\n",
       "div.sk-estimator:hover .sk-estimator-doc-link:hover,\n",
       ".sk-estimator-doc-link:hover,\n",
       "div.sk-label-container:hover .sk-estimator-doc-link:hover,\n",
       ".sk-estimator-doc-link:hover {\n",
       "  /* unfitted */\n",
       "  background-color: var(--sklearn-color-unfitted-level-3);\n",
       "  color: var(--sklearn-color-background);\n",
       "  text-decoration: none;\n",
       "}\n",
       "\n",
       "div.sk-estimator.fitted:hover .sk-estimator-doc-link.fitted:hover,\n",
       ".sk-estimator-doc-link.fitted:hover,\n",
       "div.sk-label-container:hover .sk-estimator-doc-link.fitted:hover,\n",
       ".sk-estimator-doc-link.fitted:hover {\n",
       "  /* fitted */\n",
       "  background-color: var(--sklearn-color-fitted-level-3);\n",
       "  color: var(--sklearn-color-background);\n",
       "  text-decoration: none;\n",
       "}\n",
       "\n",
       "/* Span, style for the box shown on hovering the info icon */\n",
       ".sk-estimator-doc-link span {\n",
       "  display: none;\n",
       "  z-index: 9999;\n",
       "  position: relative;\n",
       "  font-weight: normal;\n",
       "  right: .2ex;\n",
       "  padding: .5ex;\n",
       "  margin: .5ex;\n",
       "  width: min-content;\n",
       "  min-width: 20ex;\n",
       "  max-width: 50ex;\n",
       "  color: var(--sklearn-color-text);\n",
       "  box-shadow: 2pt 2pt 4pt #999;\n",
       "  /* unfitted */\n",
       "  background: var(--sklearn-color-unfitted-level-0);\n",
       "  border: .5pt solid var(--sklearn-color-unfitted-level-3);\n",
       "}\n",
       "\n",
       ".sk-estimator-doc-link.fitted span {\n",
       "  /* fitted */\n",
       "  background: var(--sklearn-color-fitted-level-0);\n",
       "  border: var(--sklearn-color-fitted-level-3);\n",
       "}\n",
       "\n",
       ".sk-estimator-doc-link:hover span {\n",
       "  display: block;\n",
       "}\n",
       "\n",
       "/* \"?\"-specific style due to the `<a>` HTML tag */\n",
       "\n",
       "#sk-container-id-1 a.estimator_doc_link {\n",
       "  float: right;\n",
       "  font-size: 1rem;\n",
       "  line-height: 1em;\n",
       "  font-family: monospace;\n",
       "  background-color: var(--sklearn-color-background);\n",
       "  border-radius: 1rem;\n",
       "  height: 1rem;\n",
       "  width: 1rem;\n",
       "  text-decoration: none;\n",
       "  /* unfitted */\n",
       "  color: var(--sklearn-color-unfitted-level-1);\n",
       "  border: var(--sklearn-color-unfitted-level-1) 1pt solid;\n",
       "}\n",
       "\n",
       "#sk-container-id-1 a.estimator_doc_link.fitted {\n",
       "  /* fitted */\n",
       "  border: var(--sklearn-color-fitted-level-1) 1pt solid;\n",
       "  color: var(--sklearn-color-fitted-level-1);\n",
       "}\n",
       "\n",
       "/* On hover */\n",
       "#sk-container-id-1 a.estimator_doc_link:hover {\n",
       "  /* unfitted */\n",
       "  background-color: var(--sklearn-color-unfitted-level-3);\n",
       "  color: var(--sklearn-color-background);\n",
       "  text-decoration: none;\n",
       "}\n",
       "\n",
       "#sk-container-id-1 a.estimator_doc_link.fitted:hover {\n",
       "  /* fitted */\n",
       "  background-color: var(--sklearn-color-fitted-level-3);\n",
       "}\n",
       "</style><div id=\"sk-container-id-1\" class=\"sk-top-container\"><div class=\"sk-text-repr-fallback\"><pre>LinearDiscriminantAnalysis()</pre><b>In a Jupyter environment, please rerun this cell to show the HTML representation or trust the notebook. <br />On GitHub, the HTML representation is unable to render, please try loading this page with nbviewer.org.</b></div><div class=\"sk-container\" hidden><div class=\"sk-item\"><div class=\"sk-estimator fitted sk-toggleable\"><input class=\"sk-toggleable__control sk-hidden--visually\" id=\"sk-estimator-id-1\" type=\"checkbox\" checked><label for=\"sk-estimator-id-1\" class=\"sk-toggleable__label fitted sk-toggleable__label-arrow fitted\">&nbsp;&nbsp;LinearDiscriminantAnalysis<a class=\"sk-estimator-doc-link fitted\" rel=\"noreferrer\" target=\"_blank\" href=\"https://scikit-learn.org/1.5/modules/generated/sklearn.discriminant_analysis.LinearDiscriminantAnalysis.html\">?<span>Documentation for LinearDiscriminantAnalysis</span></a><span class=\"sk-estimator-doc-link fitted\">i<span>Fitted</span></span></label><div class=\"sk-toggleable__content fitted\"><pre>LinearDiscriminantAnalysis()</pre></div> </div></div></div></div>"
      ],
      "text/plain": [
       "LinearDiscriminantAnalysis()"
      ]
     },
     "execution_count": 38,
     "metadata": {},
     "output_type": "execute_result"
    }
   ],
   "source": [
    "lda = LinearDiscriminantAnalysis()\n",
    "lda.fit(x_train_scaled, y_train)"
   ]
  },
  {
   "cell_type": "code",
   "execution_count": 39,
   "id": "9b2d8748-73e2-4f56-9183-c8eecd682e73",
   "metadata": {},
   "outputs": [],
   "source": [
    "lda = LinearDiscriminantAnalysis()\n",
    "lda.fit(x_train, y_train)\n",
    "y_pred = lda.predict(x_test)"
   ]
  },
  {
   "cell_type": "code",
   "execution_count": 40,
   "id": "02417ef6-dfed-4f47-9cb2-518756f1d97d",
   "metadata": {},
   "outputs": [
    {
     "name": "stdout",
     "output_type": "stream",
     "text": [
      "Accuracy: 0.7557777777777778\n",
      "              precision    recall  f1-score   support\n",
      "\n",
      "           0       0.80      0.92      0.85      3428\n",
      "           1       0.48      0.25      0.32      1072\n",
      "\n",
      "    accuracy                           0.76      4500\n",
      "   macro avg       0.64      0.58      0.59      4500\n",
      "weighted avg       0.72      0.76      0.73      4500\n",
      "\n"
     ]
    }
   ],
   "source": [
    "accuracy = accuracy_score(y_test, y_pred)\n",
    "print(f\"Accuracy: {accuracy}\")\n",
    "print(classification_report(y_test, y_pred))"
   ]
  }
 ],
 "metadata": {
  "kernelspec": {
   "display_name": "Python [conda env:base] *",
   "language": "python",
   "name": "conda-base-py"
  },
  "language_info": {
   "codemirror_mode": {
    "name": "ipython",
    "version": 3
   },
   "file_extension": ".py",
   "mimetype": "text/x-python",
   "name": "python",
   "nbconvert_exporter": "python",
   "pygments_lexer": "ipython3",
   "version": "3.12.7"
  }
 },
 "nbformat": 4,
 "nbformat_minor": 5
}
